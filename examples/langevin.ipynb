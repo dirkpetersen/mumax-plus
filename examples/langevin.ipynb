{
 "cells": [
  {
   "cell_type": "code",
   "execution_count": null,
   "metadata": {},
   "outputs": [],
   "source": [
    "from mumaxplus import *\n",
    "import numpy as np\n",
    "import matplotlib.pyplot as plt"
   ]
  },
  {
   "cell_type": "code",
   "execution_count": null,
   "metadata": {},
   "outputs": [],
   "source": [
    "@np.vectorize\n",
    "def expectation_mz_langevin(msat, bext, temperature, cellvolume):\n",
    "    kB = 1.381e-23\n",
    "    xi = msat*cellvolume*bext/(kB*temperature)\n",
    "    return 1/np.tanh(xi) - 1/xi"
   ]
  },
  {
   "cell_type": "code",
   "execution_count": null,
   "metadata": {},
   "outputs": [],
   "source": [
    "msat = 800e3\n",
    "cellvolume = 100e-27\n",
    "bext = 0.05\n",
    "temperatures = np.linspace(1, 500, 25)\n",
    "\n",
    "N = 1024\n",
    "relaxtime = 1e-9\n",
    "sampletime = 1e-9\n",
    "nsamples = 200\n",
    "\n",
    "world = World(cellsize=3*[np.power(cellvolume, 1./3.)])\n",
    "magnet = Ferromagnet(world, Grid((N, 1, 1)))\n",
    "magnet.enable_demag = False\n",
    "magnet.aex = 0.0\n",
    "magnet.alpha = 0.1\n",
    "magnet.msat = msat\n",
    "magnet.magnetization = (0,0,1) # groundstate\n",
    "\n",
    "solver = world.timesolver\n",
    "\n",
    "@np.vectorize\n",
    "def expectation_mz_simul(bext, temperature):\n",
    "    world.bias_magnetic_field = (0, 0, bext)\n",
    "    magnet.temperature = temperature\n",
    "    solver.run(relaxtime)\n",
    "    outputquantities = {\"mz\": lambda: magnet.magnetization.average()[2]}\n",
    "    timepoints = solver.time + np.linspace(0, sampletime, nsamples)\n",
    "    output = world.timesolver.solve(timepoints, outputquantities)\n",
    "    return np.average(output['mz'])\n",
    "\n",
    "m_simul = expectation_mz_simul(bext, temperatures)\n",
    "m_langevin = expectation_mz_langevin(msat, bext, temperatures, cellvolume)\n",
    "\n",
    "plt.plot(temperatures, m_simul, 'o', label=\"Simulation\")\n",
    "plt.plot(temperatures, m_langevin, 'k-', label=\"theory\")\n",
    "plt.xlabel(\"Temperature (K)\")\n",
    "plt.ylabel(\"<$m_z$>\")\n",
    "plt.legend()\n",
    "plt.show()"
   ]
  },
  {
   "cell_type": "code",
   "execution_count": null,
   "metadata": {},
   "outputs": [],
   "source": [
    "temperature = 200\n",
    "bexts = np.linspace(0.2,0.05,20)\n",
    "\n",
    "magnet.magnetization = (0,0,1) # groundstate\n",
    "\n",
    "m_simul = expectation_mz_simul(bexts, temperature)\n",
    "m_langevin = expectation_mz_langevin(msat, bexts, temperature, cellvolume)\n",
    "\n",
    "plt.plot(bexts, m_simul, 'o', label=\"Simulation\")\n",
    "plt.plot(bexts, m_langevin, 'k-', label=\"theory\")\n",
    "plt.xlabel(r\"$B_{\\rm ext}$ (T)\")\n",
    "plt.ylabel(\"<$m_z$>\")\n",
    "plt.legend()\n",
    "plt.show()"
   ]
  }
 ],
 "metadata": {
  "kernelspec": {
   "display_name": "mumax5",
   "language": "python",
   "name": "python3"
  },
  "language_info": {
   "codemirror_mode": {
    "name": "ipython",
    "version": 3
   },
   "file_extension": ".py",
   "mimetype": "text/x-python",
   "name": "python",
   "nbconvert_exporter": "python",
   "pygments_lexer": "ipython3",
   "version": "3.8.19"
  }
 },
 "nbformat": 4,
 "nbformat_minor": 4
}
