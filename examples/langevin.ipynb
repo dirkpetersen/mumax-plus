{
 "cells": [
  {
   "cell_type": "code",
   "execution_count": 1,
   "metadata": {},
   "outputs": [],
   "source": [
    "from mumax5.engine import *\n",
    "import numpy as np\n",
    "import matplotlib.pyplot as plt"
   ]
  },
  {
   "cell_type": "code",
   "execution_count": 2,
   "metadata": {},
   "outputs": [],
   "source": [
    "@np.vectorize\n",
    "def expectation_mz_langevin(msat, bext, temperature, cellvolume):\n",
    "    kB = 1.381e-23\n",
    "    xi = msat*cellvolume*bext/(kB*temperature)\n",
    "    return 1/np.tanh(xi) - 1/xi"
   ]
  },
  {
   "cell_type": "code",
   "execution_count": 6,
   "metadata": {},
   "outputs": [
    {
     "data": {
      "image/png": "[encoded data removed]",
      "text/plain": [
       "<Figure size 432x288 with 1 Axes>"
      ]
     },
     "metadata": {
      "needs_background": "light"
     },
     "output_type": "display_data"
    }
   ],
   "source": [
    "msat = 800e3\n",
    "bext = 0.05\n",
    "cellvolume = 100e-27\n",
    "temperatures = np.linspace(1, 500, 25)\n",
    "\n",
    "N = 1024\n",
    "relaxtime = 1e-9\n",
    "sampletime = 1e-9\n",
    "nsamples = 200\n",
    "\n",
    "world = World(cellsize=3*[np.power(cellvolume, 1./3.)])\n",
    "world.bias_magnetic_field = (0, 0, bext)\n",
    "magnet = world.add_ferromagnet(Grid((N, 1, 1)))\n",
    "magnet.enable_demag = False\n",
    "magnet.aex = 0.0\n",
    "magnet.alpha = 0.1\n",
    "magnet.msat = msat\n",
    "magnet.magnetization = (0,0,1) # groundstate\n",
    "\n",
    "solver = TimeSolver(magnet.magnetization,magnet.torque, magnet.thermal_noise)\n",
    "\n",
    "@np.vectorize\n",
    "def expectation_mz_simul(temperature):\n",
    "    magnet.temperature = temperature\n",
    "    solver.run(relaxtime)\n",
    "    table = Table()\n",
    "    table.add(\"mz\", magnet.magnetization, 2)\n",
    "    timepoints = np.linspace(solver.time, solver.time+sampletime, nsamples)\n",
    "    solver.solve(timepoints, table)\n",
    "    return np.average(table['mz'])\n",
    "\n",
    "m_simul = expectation_mz_simul(temperatures)\n",
    "m_langevin = expectation_mz_langevin(msat, bext, temperatures, cellvolume)\n",
    "\n",
    "plt.plot(temperatures, m_simul, 'o', label=\"Simulation\")\n",
    "plt.plot(temperatures, m_langevin, 'k-', label=\"theory\")\n",
    "plt.xlabel(\"Temperature (K)\")\n",
    "plt.ylabel(\"<m_z>\")\n",
    "plt.legend()\n",
    "plt.show()"
   ]
  },
  {
   "cell_type": "code",
   "execution_count": null,
   "metadata": {},
   "outputs": [],
   "source": [
    "msat = 800e3\n",
    "bext = np.linspace(0.2,0.05,10)\n",
    "cellvolume = 100e-27\n",
    "temperature = 200\n",
    "\n",
    "N = 1024\n",
    "relaxtime = 1e-9\n",
    "sampletime = 1e-9\n",
    "nsamples = 200\n",
    "\n",
    "world = World(cellsize=3*[np.power(cellvolume, 1./3.)])\n",
    "\n",
    "magnet = world.add_ferromagnet(Grid((N, 1, 1)))\n",
    "magnet.enable_demag = False\n",
    "magnet.aex = 0.0\n",
    "magnet.alpha = 0.1\n",
    "magnet.msat = msat\n",
    "magnet.temperature = temperature\n",
    "magnet.magnetization = (0,0,1) # groundstate\n",
    "\n",
    "solver = TimeSolver(magnet.magnetization,magnet.torque, magnet.thermal_noise)\n",
    "\n",
    "@np.vectorize\n",
    "def expectation_mz_simul(bext):\n",
    "    world.bias_magnetic_field = (0, 0, bext)\n",
    "    solver.run(relaxtime)\n",
    "    table = Table()\n",
    "    table.add(\"mz\", magnet.magnetization, 2)\n",
    "    timepoints = np.linspace(solver.time, solver.time+sampletime, nsamples)\n",
    "    solver.solve(timepoints, table)\n",
    "    return np.average(table['mz'])\n",
    "\n",
    "m_simul = expectation_mz_simul(temperatures)\n",
    "m_langevin = expectation_mz_langevin(msat, bext, temperatures, cellvolume)\n",
    "\n",
    "plt.plot(bext, m_simul, 'o', label=\"Simulation\")\n",
    "plt.plot(bext, m_langevin, 'k-', label=\"theory\")\n",
    "plt.xlabel(\"Temperature (K)\")\n",
    "plt.ylabel(\"<m_z>\")\n",
    "plt.legend()\n",
    "plt.show()"
   ]
  }
 ],
 "metadata": {
  "kernelspec": {
   "display_name": "Python 3.7.6 64-bit ('mumax5': conda)",
   "language": "python",
   "name": "python37664bitmumax5conda55c80736697c4d6da756c56d608c8678"
  },
  "language_info": {
   "codemirror_mode": {
    "name": "ipython",
    "version": 3
   },
   "file_extension": ".py",
   "mimetype": "text/x-python",
   "name": "python",
   "nbconvert_exporter": "python",
   "pygments_lexer": "ipython3",
   "version": "3.7.6"
  }
 },
 "nbformat": 4,
 "nbformat_minor": 4
}
